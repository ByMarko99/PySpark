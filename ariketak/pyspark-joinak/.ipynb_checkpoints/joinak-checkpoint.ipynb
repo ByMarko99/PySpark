{
 "cells": [
  {
   "cell_type": "markdown",
   "metadata": {},
   "source": [
    "# PySpark joinak\n"
   ]
  },
  {
   "cell_type": "code",
   "execution_count": 48,
   "metadata": {},
   "outputs": [],
   "source": [
    "# Import necessary libraries\n",
    "from pyspark.sql import SparkSession\n",
    "from pyspark.sql.functions import col, round\n",
    "from functools import reduce\n",
    "\n",
    "# Initialize Spark session\n",
    "spark = SparkSession.builder.appName(\"Join DataFrames\").getOrCreate()\n",
    "sc = spark.sparkContext"
   ]
  },
  {
   "cell_type": "code",
   "execution_count": 49,
   "metadata": {},
   "outputs": [],
   "source": [
    "# Dataframe eta textu fitxategiak kargatu\n",
    "df_fisica = spark.read.option(\"header\", True).csv(\"txt/notas_fisica.txt\")\n",
    "\n",
    "df_mates = spark.read.option(\"header\", True).csv(\"txt/notas_mates.txt\")\n",
    "df_ingles = spark.read.option(\"header\", True).csv(\"txt/notas_ingles.txt\")"
   ]
  },
  {
   "cell_type": "code",
   "execution_count": 50,
   "metadata": {},
   "outputs": [],
   "source": [
    "# Add header \n",
    "df_fisica = df_fisica.toDF(\"izena\",\"notas_fisica\")\n",
    "df_mates = df_mates.toDF(\"izena\",\"notas_mates\")\n",
    "df_ingles = df_ingles.toDF(\"izena\",\"notas_ingles\")\n"
   ]
  },
  {
   "cell_type": "code",
   "execution_count": 51,
   "metadata": {},
   "outputs": [],
   "source": [
    "# Duplikatuak kendu\n",
    "df_fisica = df_fisica.dropDuplicates()\n",
    "df_mate = df_mate.dropDuplicates()\n",
    "df_ingles = df_ingles.dropDuplicates()"
   ]
  },
  {
   "cell_type": "code",
   "execution_count": 52,
   "metadata": {},
   "outputs": [
    {
     "name": "stdout",
     "output_type": "stream",
     "text": [
      "Fisica DataFrame:\n",
      "+---------+------------+\n",
      "|    izena|notas_fisica|\n",
      "+---------+------------+\n",
      "|Jose Juan|           3|\n",
      "|   Carlos|           4|\n",
      "|  Nicolas|           7|\n",
      "|Alejandro|           3|\n",
      "|    Rocio|           5|\n",
      "| Fernando|           9|\n",
      "|   Isabel|           8|\n",
      "|   Andres|           4|\n",
      "|    Pedro|           2|\n",
      "|    Oscar|           5|\n",
      "| Leonardo|           6|\n",
      "|    Rocio|           7|\n",
      "|    Maria|           3|\n",
      "|   Triana|           3|\n",
      "|    Jorge|           5|\n",
      "|    Ramon|           7|\n",
      "|   Anabel|           2|\n",
      "|   Susana|           9|\n",
      "|     Rosa|           8|\n",
      "+---------+------------+\n",
      "\n",
      "Mate DataFrame:\n",
      "+---------+-----------+\n",
      "|    izena|notas_mates|\n",
      "+---------+-----------+\n",
      "|    Maria|          2|\n",
      "|    Ramon|        4.5|\n",
      "|    Jorge|         10|\n",
      "|   Susana|          9|\n",
      "|   Anabel|          8|\n",
      "|    Pedro|          5|\n",
      "|    Rocio|          6|\n",
      "|   Carlos|          4|\n",
      "|   Triana|          3|\n",
      "|   Andres|          4|\n",
      "| Fernando|          5|\n",
      "| Leonardo|          1|\n",
      "|    Oscar|          7|\n",
      "|   Isabel|          8|\n",
      "|Jose Juan|          5|\n",
      "|  Nicolas|          2|\n",
      "|Alejandro|          5|\n",
      "|     Rosa|          6|\n",
      "+---------+-----------+\n",
      "\n",
      "Ingles DataFrame:\n",
      "+---------+------------+\n",
      "|    izena|notas_ingles|\n",
      "+---------+------------+\n",
      "|Jose Juan|           3|\n",
      "|   Carlos|           8|\n",
      "|Alejandro|           7|\n",
      "| Leonardo|           4|\n",
      "|   Andres|           6|\n",
      "| Fernando|           7|\n",
      "|   Isabel|           7|\n",
      "|    Rocio|           4|\n",
      "|    Oscar|           3|\n",
      "|   Triana|           4|\n",
      "|    Maria|           6|\n",
      "|   Susana|           2|\n",
      "|  Nicolas|           5|\n",
      "|     Rosa|           9|\n",
      "|    Jorge|           5|\n",
      "|   Anabel|           7|\n",
      "|    Ramon|           8|\n",
      "+---------+------------+\n",
      "\n"
     ]
    }
   ],
   "source": [
    "# Erakutsi the DataFrame-ak\n",
    "print(\"Fisica DataFrame:\")\n",
    "df_fisica.show()\n",
    "\n",
    "print(\"Mate DataFrame:\")\n",
    "df_mates.show()\n",
    "\n",
    "print(\"Ingles DataFrame:\")\n",
    "df_ingles.show()"
   ]
  },
  {
   "cell_type": "code",
   "execution_count": 53,
   "metadata": {},
   "outputs": [],
   "source": [
    "# Join\n",
    "# full outer join on 'izena'\n",
    "df_joined = df_fisica.join(df_mates, on=\"izena\", how=\"full_outer\") \\\n",
    "                     .join(df_ingles, on=\"izena\", how=\"full_outer\")"
   ]
  },
  {
   "cell_type": "code",
   "execution_count": 54,
   "metadata": {},
   "outputs": [],
   "source": [
    "# Aldatu null 0-rekin\n",
    "df_joined = df_joined.fillna(\"0\")\n"
   ]
  },
  {
   "cell_type": "code",
   "execution_count": 55,
   "metadata": {},
   "outputs": [],
   "source": [
    "# 3 notak dituen DataFramean noten mediekin zutabe bat gehitu.\n",
    "df_joined = df_joined.withColumn(\"media\", round((col(\"notas_fisica\").cast(\"float\") + col(\"notas_mates\").cast(\"float\") + col(\"notas_ingles\").cast(\"float\")) / 3,2 ))\n"
   ]
  },
  {
   "cell_type": "code",
   "execution_count": 56,
   "metadata": {},
   "outputs": [
    {
     "name": "stdout",
     "output_type": "stream",
     "text": [
      "Joined DataFrame:\n",
      "+---------+------------+-----------+------------+-----+\n",
      "|    izena|notas_fisica|notas_mates|notas_ingles|media|\n",
      "+---------+------------+-----------+------------+-----+\n",
      "|Alejandro|           3|          5|           7|  5.0|\n",
      "|   Anabel|           2|          8|           7| 5.67|\n",
      "|   Andres|           4|          4|           6| 4.67|\n",
      "|   Carlos|           4|          4|           8| 5.33|\n",
      "| Fernando|           9|          5|           7|  7.0|\n",
      "|   Isabel|           8|          8|           7| 7.67|\n",
      "|    Jorge|           5|         10|           5| 6.67|\n",
      "|Jose Juan|           3|          5|           3| 3.67|\n",
      "| Leonardo|           6|          1|           4| 3.67|\n",
      "|    Maria|           3|          2|           6| 3.67|\n",
      "|  Nicolas|           7|          2|           5| 4.67|\n",
      "|    Oscar|           5|          7|           3|  5.0|\n",
      "|    Pedro|           2|          5|           0| 2.33|\n",
      "|    Ramon|           7|        4.5|           8|  6.5|\n",
      "|    Rocio|           5|          6|           4|  5.0|\n",
      "|    Rocio|           7|          6|           4| 5.67|\n",
      "|     Rosa|           8|          6|           9| 7.67|\n",
      "|   Susana|           9|          9|           2| 6.67|\n",
      "|   Triana|           3|          3|           4| 3.33|\n",
      "+---------+------------+-----------+------------+-----+\n",
      "\n"
     ]
    }
   ],
   "source": [
    "# Show the joined DataFrame\n",
    "print(\"Dataframe guztira:\")\n",
    "df_joined.show()"
   ]
  },
  {
   "cell_type": "code",
   "execution_count": 57,
   "metadata": {},
   "outputs": [],
   "source": [
    "# Stop the Spark session\n",
    "spark.stop()"
   ]
  }
 ],
 "metadata": {
  "kernelspec": {
   "display_name": "Python 3 (ipykernel)",
   "language": "python",
   "name": "python3"
  },
  "language_info": {
   "codemirror_mode": {
    "name": "ipython",
    "version": 3
   },
   "file_extension": ".py",
   "mimetype": "text/x-python",
   "name": "python",
   "nbconvert_exporter": "python",
   "pygments_lexer": "ipython3",
   "version": "3.12.3"
  }
 },
 "nbformat": 4,
 "nbformat_minor": 4
}
